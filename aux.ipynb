{
 "cells": [
  {
   "cell_type": "code",
   "execution_count": 1,
   "metadata": {},
   "outputs": [
    {
     "data": {
      "text/plain": [
       "normalize (generic function with 1 method)"
      ]
     },
     "metadata": {},
     "output_type": "display_data"
    }
   ],
   "source": [
    "using GLMakie\n",
    "using LinearAlgebra\n",
    "\n",
    "function euclidian(a, b)\n",
    "    return sqrt((b[1] - a[1])^2 + (b[2] - a[2])^2 + (b[3] - a[3])^2)\n",
    "end\n",
    "\n",
    "\n",
    "function norm(a)\n",
    "    return euclidian(a, repeat([0], size(a, 1)))\n",
    "end\n",
    "\n",
    "function normalize(a)\n",
    "    return a./norm(a)\n",
    "end"
   ]
  },
  {
   "cell_type": "code",
   "execution_count": 52,
   "metadata": {},
   "outputs": [
    {
     "data": {
      "text/plain": [
       "plotLine (generic function with 2 methods)"
      ]
     },
     "metadata": {},
     "output_type": "display_data"
    }
   ],
   "source": [
    "function printPointScreen(d, h, v)\n",
    "    p = round.(pointScreen(d, h, v), digits=3)\n",
    "    println(\"\\\\draw (origin) -- ($(p[1]), $(p[2]), $(p[3]));\")\n",
    "end\n",
    "\n",
    "function pointScreen(d, h, v)\n",
    "    return O .+ d.*P + h.*H + v.*V\n",
    "end\n",
    "\n",
    "function plotLine(axis, a, b, color=:black)\n",
    "    lines!(axis, [a[1], b[1]], [a[2], b[2]], [a[3], b[3]], color=color)\n",
    "end"
   ]
  },
  {
   "cell_type": "code",
   "execution_count": 53,
   "metadata": {},
   "outputs": [
    {
     "name": "stdout",
     "output_type": "stream",
     "text": [
      "\\draw (origin) -- (5.342, 1.985, -0.083);\n",
      "\\draw (origin) -- (5.162, 2.039, 0.899);\n",
      "\\draw (origin) -- (4.982, 2.093, 1.881);\n",
      "\\draw (origin) -- (4.802, 2.148, 2.864);\n",
      "\\draw (origin) -- (4.621, 2.202, 3.846);\n",
      "\\draw (origin) -- (5.055, 1.028, -0.083);\n",
      "\\draw (origin) -- (4.875, 1.082, 0.899);\n",
      "\\draw (origin) -- (4.695, 1.136, 1.881);\n",
      "\\draw (origin) -- (4.514, 1.19, 2.864);\n",
      "\\draw (origin) -- (4.334, 1.244, 3.846);\n",
      "\\draw (origin) -- (4.768, 0.07, -0.083);\n",
      "\\draw (origin) -- (4.587, 0.124, 0.899);\n",
      "\\draw (origin) -- (4.407, 0.178, 1.881);\n",
      "\\draw (origin) -- (4.227, 0.232, 2.864);\n",
      "\\draw (origin) -- (4.047, 0.286, 3.846);\n",
      "\\draw (origin) -- (4.48, -0.888, -0.083);\n",
      "\\draw (origin) -- (4.3, -0.834, 0.899);\n",
      "\\draw (origin) -- (4.12, -0.78, 1.881);\n",
      "\\draw (origin) -- (3.94, -0.726, 2.864);\n",
      "\\draw (origin) -- (3.759, -0.672, 3.846);\n",
      "\\draw (origin) -- (4.193, -1.846, -0.083);\n",
      "\\draw (origin) -- (4.013, -1.792, 0.899);\n",
      "\\draw (origin) -- (3.833, -1.738, 1.881);\n",
      "\\draw (origin) -- (3.652, -1.684, 2.864);\n",
      "\\draw (origin) -- (3.472, -1.63, 3.846);\n"
     ]
    }
   ],
   "source": [
    "zAxis = [0.0, 0.0, 1.0]\n",
    "O     = [-5, 3, 0]\n",
    "D     = [5, 0, 2]\n",
    "\n",
    "P = D .- O\n",
    "P = normalize(P)\n",
    "H = cross(P, zAxis)\n",
    "H = normalize(H)\n",
    "V = -cross(P, H)\n",
    "V = normalize(V)\n",
    "\n",
    "d = 10\n",
    "\n",
    "figure = Figure(resolution=(1200, 800))\n",
    "axis   = Axis3(figure[1, 1], aspect=:data, limits = (-5, 5, -5, 5, -5, 5))\n",
    "set_theme!(theme_light())\n",
    "\n",
    "xlims = [-2, 2]\n",
    "ylims = [-2, 2]\n",
    "\n",
    "for dx in xlims[1]:xlims[2]\n",
    "    for dy in ylims[1]:ylims[2]\n",
    "        p = pointScreen(d, dx, dy)\n",
    "        printPointScreen(d, dx, dy)\n",
    "        plotLine(axis, O, p)\n",
    "    end\n",
    "end\n",
    "\n",
    "figure"
   ]
  },
  {
   "cell_type": "code",
   "execution_count": null,
   "metadata": {},
   "outputs": [],
   "source": []
  }
 ],
 "metadata": {
  "kernelspec": {
   "display_name": "Julia 1.7.1",
   "language": "julia",
   "name": "julia-1.7"
  },
  "language_info": {
   "file_extension": ".jl",
   "mimetype": "application/julia",
   "name": "julia",
   "version": "1.7.1"
  },
  "orig_nbformat": 4
 },
 "nbformat": 4,
 "nbformat_minor": 2
}
