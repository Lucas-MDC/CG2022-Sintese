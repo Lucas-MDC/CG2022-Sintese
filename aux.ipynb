{
 "cells": [
  {
   "cell_type": "code",
   "execution_count": 190,
   "metadata": {},
   "outputs": [
    {
     "data": {
      "text/plain": [
       "normalize (generic function with 1 method)"
      ]
     },
     "metadata": {},
     "output_type": "display_data"
    }
   ],
   "source": [
    "using GLMakie\n",
    "using LinearAlgebra\n",
    "\n",
    "function euclidian(a, b)\n",
    "    return sqrt((b[1] - a[1])^2 + (b[2] - a[2])^2 + (b[3] - a[3])^2)\n",
    "end\n",
    "\n",
    "function norm(a)\n",
    "    return euclidian(a, repeat([0], size(a, 1)))\n",
    "end\n",
    "\n",
    "function normalize(a)\n",
    "    return a./norm(a)\n",
    "end"
   ]
  },
  {
   "cell_type": "code",
   "execution_count": 191,
   "metadata": {},
   "outputs": [
    {
     "data": {
      "text/plain": [
       "plotLine (generic function with 2 methods)"
      ]
     },
     "metadata": {},
     "output_type": "display_data"
    }
   ],
   "source": [
    "function printPointScreen(d, h, v)\n",
    "    p = round.(pointScreen(d, h, v), digits=3)\n",
    "    println(\"\\\\draw (origin) -- ($(p[1]), $(p[2]), $(p[3]));\")\n",
    "end\n",
    "\n",
    "function pointScreen(O, P, H, V, h, v, d)\n",
    "    return  d.*P + h.*H + v.*V\n",
    "end\n",
    "\n",
    "function plotLine(axis, a, b, color=:black)\n",
    "    lines!(axis, [a[1], b[1]], [a[2], b[2]], [a[3], b[3]], color=color)\n",
    "end"
   ]
  },
  {
   "cell_type": "code",
   "execution_count": 189,
   "metadata": {},
   "outputs": [
    {
     "name": "stdout",
     "output_type": "stream",
     "text": [
      "[1.0, 0.0, 0.0]\n",
      "[1.0, 0.0, 0.0]\n"
     ]
    },
    {
     "data": {
      "text/plain": [
       "(x = 0, y = 0, z = 0, w = 0)"
      ]
     },
     "metadata": {},
     "output_type": "display_data"
    }
   ],
   "source": [
    "O     = [1, 0, 0]\n",
    "D     = [2, 0, 0]\n",
    "sphere = (x=5, y=0, z=0, w=0.1)\n",
    "\n",
    "P = D .- O\n",
    "Po = P\n",
    "P = normalize(P)\n",
    "H = cross(P, zAxis)\n",
    "H = normalize(H)\n",
    "V = -cross(P, H)\n",
    "V = normalize(V)\n",
    "dx = 0\n",
    "dy = 0\n",
    "d = 1 \n",
    "println(P)\n",
    "P = normalize(pointScreen(O, P, H, V, dx, dy, d))\n",
    "println(P)\n",
    "origin    = (x=O[1], y=O[2], z=O[3])\n",
    "direction = (x=P[1], y=P[2], z=P[3])\n",
    "Inter = raySphereIntersection(origin, direction, sphere)"
   ]
  },
  {
   "cell_type": "code",
   "execution_count": null,
   "metadata": {},
   "outputs": [],
   "source": [
    "zAxis = [0.0, 0.0, 1.0]\n",
    "O     = [-5, 3, 0]\n",
    "D     = [5, 0, 2]\n",
    "\n",
    "P = D .- O\n",
    "P = normalize(P)\n",
    "H = cross(P, zAxis)\n",
    "H = normalize(H)\n",
    "V = -cross(P, H)\n",
    "V = normalize(V)\n",
    "\n",
    "d = 10\n",
    "\n",
    "figure = Figure(resolution=(1200, 800))\n",
    "axis   = Axis3(figure[1, 1], aspect=:data, limits = (-5, 5, -5, 5, -5, 5))\n",
    "set_theme!(theme_light())\n",
    "\n",
    "xlims = [-2, 2]\n",
    "ylims = [-2, 2]\n",
    "\n",
    "for dx in xlims[1]:xlims[2]\n",
    "    for dy in ylims[1]:ylims[2]\n",
    "        p = pointScreen(P, H, V, d, dx, dy)\n",
    "        printPointScreen(d, dx, dy)\n",
    "        plotLine(axis, O, p)\n",
    "    end\n",
    "end\n",
    "\n",
    "figure"
   ]
  },
  {
   "cell_type": "code",
   "execution_count": null,
   "metadata": {},
   "outputs": [],
   "source": [
    "function pow(x, y)\n",
    "    return x^y\n",
    "end\n",
    "\n",
    "function raySphereIntersection(rO, rD, s)\n",
    "    B = 2.0 * (rD.x * (rO.x - s.x ) + rD.y * ( rO.y - s.y ) + rD.z * (rO.z - s.z))\n",
    "    C = pow(rO.x - s.x, 2) + pow(rO.y - s.y, 2) + pow(rO.z - s.z, 2) - pow(s.w, 2)\n",
    "    discriminant = pow(B, 2) - 4*C\n",
    "    \n",
    "    if discriminant < 0\n",
    "        return (x=0, y=0, z=0, w=0)\n",
    "    end\n",
    "    \n",
    "    discriminant = discriminant^(1/2)\n",
    "    t = 0\n",
    "    t0 = (-discriminant -B)/2\n",
    "    t1 = (discriminant - B)/2\n",
    "    \n",
    "    if(t0 <= t1)\n",
    "        t = t0\n",
    "    else\n",
    "        t = t1\n",
    "    end\n",
    "\n",
    "    if(t < 0)\n",
    "        return (x=0, y=0, z=0, w=0)\n",
    "    end\n",
    "    \n",
    "    return (x=rO.x + rD.x*t, y=rO.y + rD.y*t, z=rO.z + rD.z*t, w=1)\n",
    "end"
   ]
  },
  {
   "cell_type": "code",
   "execution_count": null,
   "metadata": {},
   "outputs": [],
   "source": [
    "zAxis = [0.0, 0.0, 1.0]\n",
    "O     = [10, 0, 0]\n",
    "D     = [5, 0, 0]\n",
    "\n",
    "sphere = (x=8, y=0, z=0, w=1)\n",
    "\n",
    "P = D .- O\n",
    "P = normalize(P)\n",
    "println(P)\n",
    "H = cross(P, zAxis)\n",
    "H = normalize(H)\n",
    "V = -cross(P, H)\n",
    "V = normalize(V)\n",
    "\n",
    "d = 10\n",
    "\n",
    "xlims = [-2, 2]\n",
    "ylims = [-2, 2]\n",
    "\n",
    "for dx in xlims[1]:xlims[2]\n",
    "    for dy in ylims[1]:ylims[2]\n",
    "        P = normalize(pointScreen(d, dx, dy))\n",
    "        println(P)\n",
    "        origin    = (x=O[1], y=O[2], z=O[3])\n",
    "        direction = (x=P[1], y=P[2], z=P[3])\n",
    "        \n",
    "        Inter = raySphereIntersection(origin, direction, sphere)\n",
    "        println(Inter)\n",
    "    end\n",
    "end"
   ]
  }
 ],
 "metadata": {
  "kernelspec": {
   "display_name": "Julia 1.7.1",
   "language": "julia",
   "name": "julia-1.7"
  },
  "language_info": {
   "file_extension": ".jl",
   "mimetype": "application/julia",
   "name": "julia",
   "version": "1.7.1"
  },
  "orig_nbformat": 4
 },
 "nbformat": 4,
 "nbformat_minor": 2
}
